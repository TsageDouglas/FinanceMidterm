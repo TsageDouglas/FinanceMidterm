{
 "cells": [
  {
   "cell_type": "code",
   "execution_count": 1,
   "id": "20bc6cb9",
   "metadata": {},
   "outputs": [],
   "source": [
    "import requests\n",
    "import zipfile\n",
    "import io\n",
    "import os\n",
    "import pandas as pd\n",
    "import plotly.graph_objs as go\n",
    "import matplotlib.pyplot as plt\n",
    "from matplotlib.sankey import Sankey\n",
    "import numpy as np\n",
    "import plotly.graph_objects as go\n",
    "import plotly.io as pio"
   ]
  },
  {
   "cell_type": "code",
   "execution_count": 2,
   "id": "06c5d932",
   "metadata": {},
   "outputs": [
    {
     "name": "stdout",
     "output_type": "stream",
     "text": [
      "Requirement already satisfied: kaleido in /Users/tsagedouglas/opt/miniconda3/envs/econ/lib/python3.9/site-packages (0.2.1)\r\n"
     ]
    }
   ],
   "source": [
    "!pip install -U kaleido"
   ]
  },
  {
   "cell_type": "code",
   "execution_count": 3,
   "id": "74aa9134",
   "metadata": {
    "scrolled": true
   },
   "outputs": [],
   "source": [
    "\n",
    "os.chdir(\"/Users/tsagedouglas/Desktop/\")\n",
    "df = pd.read_stata('CFT_TRIMESTRIEL.dta')"
   ]
  },
  {
   "cell_type": "code",
   "execution_count": 4,
   "id": "b6c14c44",
   "metadata": {},
   "outputs": [],
   "source": [
    "# convert columns to float data type\n",
    "df = df.astype({\n",
    "    '_31dec1996': 'float',\n",
    "    '_31mar1996': 'float',\n",
    "    '_30jun1996': 'float',\n",
    "    '_30sep1996': 'float',\n",
    "    '_31dec1996': 'float',\n",
    "    '_31mar1997': 'float',\n",
    "    '_30jun1997': 'float',\n",
    "    '_30sep1997': 'float',\n",
    "    '_31dec1997': 'float',\n",
    "    '_31mar1998': 'float',\n",
    "    '_30jun1998': 'float',\n",
    "    '_30sep1998': 'float',\n",
    "    '_31dec1998': 'float',\n",
    "    '_31mar1999': 'float',\n",
    "    '_30jun1999': 'float',\n",
    "    '_30sep1999': 'float',\n",
    "    '_31dec1999': 'float',\n",
    "    '_31mar2000': 'float',\n",
    "    '_30jun2000': 'float',\n",
    "    '_30sep2000': 'float',\n",
    "    '_31dec2000': 'float',\n",
    "    '_31mar2001': 'float',\n",
    "    '_30jun2001': 'float',\n",
    "    '_30sep2001': 'float',\n",
    "    '_31dec2001': 'float',\n",
    "    '_31mar2002': 'float',\n",
    "    '_30jun2002': 'float',\n",
    "    '_30sep2002': 'float',\n",
    "    '_31dec2002': 'float',\n",
    "    '_31mar2003': 'float',\n",
    "    '_30jun2003': 'float',\n",
    "    '_30sep2003': 'float',\n",
    "    '_31dec2003': 'float',\n",
    "    '_31mar2004': 'float',\n",
    "    '_30jun2004': 'float',\n",
    "    '_30sep2004': 'float',\n",
    "    '_31dec2004': 'float',\n",
    "    '_31mar2005': 'float',\n",
    "    '_30jun2005': 'float',\n",
    "    '_30sep2005': 'float',\n",
    "    '_31dec2005': 'float',\n",
    "    '_31mar2006': 'float',\n",
    "    '_30jun2006': 'float',\n",
    "    '_30sep2006': 'float',\n",
    "    '_31dec2006': 'float',\n",
    "    '_31mar2007': 'float',\n",
    "    '_30jun2007': 'float',\n",
    "    '_30sep2007': 'float',\n",
    "    '_31dec2007': 'float',\n",
    "    '_31mar2008': 'float',\n",
    "    '_30jun2008': 'float',\n",
    "    '_30sep2008': 'float',\n",
    "    '_31dec2008': 'float',\n",
    "    '_31mar2009': 'float',\n",
    "    '_30jun2009': 'float',\n",
    "    '_30sep2009': 'float',\n",
    "    '_31dec2009': 'float',\n",
    "    '_31mar2010': 'float',\n",
    "    '_30jun2010': 'float',\n",
    "    '_30sep2010': 'float',\n",
    "    '_31dec2010': 'float',\n",
    "    '_31mar2011': 'float',\n",
    "    '_30jun2011': 'float',\n",
    "    '_30sep2011': 'float',\n",
    "    '_31dec2011': 'float',\n",
    "    '_31mar2012': 'float',\n",
    "    '_30jun2012': 'float',\n",
    "    '_30sep2012': 'float',\n",
    "    '_31dec2012': 'float',\n",
    "    '_31mar2013': 'float',\n",
    "    '_30jun2013': 'float',\n",
    "    '_30sep2013': 'float',\n",
    "    '_31dec2013': 'float',\n",
    "    '_31mar2014': 'float',\n",
    "    '_30jun2014': 'float',\n",
    "    '_30sep2014': 'float',\n",
    "    '_31dec2014': 'float',\n",
    "    '_31mar2015': 'float',\n",
    "    '_30jun2015': 'float',\n",
    "    '_30sep2015': 'float',\n",
    "    '_31dec2015': 'float',\n",
    "    '_31mar2016': 'float',\n",
    "    '_30jun2016': 'float',\n",
    "    '_30sep2016': 'float',\n",
    "    '_31dec2016': 'float',\n",
    "    '_31mar2017': 'float',\n",
    "    '_30jun2017': 'float',\n",
    "    '_30sep2017': 'float',\n",
    "    '_31dec2017': 'float',\n",
    "    '_31mar2018': 'float',\n",
    "    '_30jun2018': 'float',\n",
    "    '_30sep2018': 'float',\n",
    "    '_31dec2018': 'float',\n",
    "    '_31mar2019': 'float',\n",
    "    '_30jun2019': 'float',\n",
    "    '_30sep2019': 'float',\n",
    "    '_31dec2019': 'float',\n",
    "    '_31mar2020': 'float',\n",
    "    '_30jun2020': 'float',\n",
    "    '_30sep2020': 'float',\n",
    "    '_31dec2020': 'float',\n",
    "    '_31mar2021': 'float',\n",
    "    '_30jun2021': 'float',\n",
    "    '_30sep2021': 'float',\n",
    "    '_31dec2021': 'float',\n",
    "    '_31mar2022': 'float',\n",
    "    '_30jun2022': 'float',\n",
    "    '_30sep2022': 'float'\n",
    "})\n",
    "\n",
    "# replace commas with dots\n",
    "df = df.replace(',', '.', regex=True)"
   ]
  },
  {
   "cell_type": "code",
   "execution_count": 5,
   "id": "80fa8c6e",
   "metadata": {},
   "outputs": [],
   "source": [
    "# rename zonegéographiquederéférencerefer to geographicterminus\n",
    "df.rename(columns={\"zonegéographiquederéférencerefer\": \"geographicterminus\"}, inplace=True)\n",
    "df['geographicterminus'].rename(\"geographicterminus\")\n",
    "\n",
    "# replace geographicterminus values\n",
    "df.loc[df['geographicterminus'] == 'FR', 'geographicterminus'] = 'france'\n",
    "\n",
    "# rename zonedecontrepartiecounterpartare to geographicorigin\n",
    "df.rename(columns={\"zonedecontrepartiecounterpartare\": \"geographicorigin\"}, inplace=True)\n",
    "df['geographicorigin'].rename(\"geographicorigin\")\n",
    "\n",
    "# replace geographicorigin values\n",
    "df.loc[df['geographicorigin'] == 'W1', 'geographicorigin'] = 'foreigneconomy'\n",
    "df.loc[df['geographicorigin'] == 'W0', 'geographicorigin'] = 'totaleconomies'\n",
    "df.loc[df['geographicorigin'] == 'W2', 'geographicorigin'] = 'domesticeconomy'\n",
    "\n",
    "\n",
    "# rename columns\n",
    "df = df.rename(columns={\n",
    "    'secteurderéférencereferencesecto': 'domesticsectors',\n",
    "    'secteurdecontrepartiecounterpart': 'foreignsectors',\n",
    "    'paritéaccountentry': 'accountparity',\n",
    "    'naturesto': 'flows',\n",
    "    'instrumentinstrumentasset': 'instrument',\n",
    "    'maturitématurity': 'maturity',\n",
    "    'devisecurrency': 'currency'\n",
    "})\n",
    "\n",
    "# replace values\n",
    "df['domesticsectors'].replace({\n",
    "    'S1': 'totaldomesticeconomy',\n",
    "    'S11': 'nonfinancialcorps',\n",
    "    'S12': 'financialcorps',\n",
    "    'S121': 'centralbank',\n",
    "    'S122': 'deposittaking',\n",
    "    'S123': 'moneymarket',\n",
    "    'S124': 'nonmoneymarket',\n",
    "    'S125': 'other',\n",
    "    'S126': 'financialaux',\n",
    "    'S127': 'captivefinancial',\n",
    "    'S128': 'insurance',\n",
    "    'S12K': 'monetaryinstitutions',\n",
    "    'S12O': 'otherinstitutions',\n",
    "    'S13': 'generalgovt',\n",
    "    'S1311': 'centralgovt',\n",
    "    'S13111': 'stategovt',\n",
    "    'S13112': 'othercentralgovt',\n",
    "    'S1313': 'localgvt',\n",
    "    'S1314': 'socialsecurity',\n",
    "    'S14': 'households',\n",
    "    'S14A': 'employers',\n",
    "    'S14B': 'employees',\n",
    "    'S15': 'nonprofits',\n",
    "    'S1M': 'NPISH'\n",
    "}, inplace=True)\n",
    "\n",
    "df['foreignsectors'].replace({\n",
    "    'S1': 'totalforeigneconomy',\n",
    "    'S11': 'nonfinancialcorps',\n",
    "    'S12': 'financialcorps',\n",
    "    'S122': 'deposittaking',\n",
    "    'S124': 'nonMMFinvestment',\n",
    "    'S128': 'insurance',\n",
    "    'S12K': 'monetaryfinancial',\n",
    "    'S12O': 'other',\n",
    "    'S13': 'generalgovt',\n",
    "    'S1M': 'NPISH'\n",
    "}, inplace=True)\n",
    "\n",
    "df['accountparity'].replace({\n",
    "    'A': 'assets',\n",
    "    'L': 'liabilities',\n",
    "    'N': 'net'\n",
    "}, inplace=True)\n",
    "\n",
    "df['flows'].replace({\n",
    "    'B102': 'changeassetvolume',\n",
    "    'B103': 'networthreval',\n",
    "    'B9F' : 'netlendborrow',  \n",
    "    'BF90' : 'financialnet', \n",
    "    'F' : 'flows', \n",
    "    'KA' : 'other', \n",
    "    'LE' : 'stocks', \n",
    "    'K7' : 'revaluations' \n",
    "}, inplace=True)\n",
    "\n",
    "# Rename columns\n",
    "df = df.rename(columns={\"instrumentinstrumentasset\": \"instrument\", \"maturitématurity\": \"maturity\", \"devisecurrency\": \"currency\"})\n",
    "\n",
    "# Recode instrument\n",
    "df.loc[df[\"instrument\"] == \"F1\", \"instrument\"] = \"monetarygoldsdr\"\n",
    "df.loc[df[\"instrument\"] == \"F11\", \"instrument\"] = \"monetarygold\"\n",
    "df.loc[df[\"instrument\"] == \"F12\", \"instrument\"] = \"SDRs\"\n",
    "df.loc[df[\"instrument\"] == \"F2\", \"instrument\"] = \"currencydeposits\"\n",
    "df.loc[df[\"instrument\"] == \"F21\", \"instrument\"] = \"currency\"\n",
    "\n",
    "# Recode maturity\n",
    "df.loc[df[\"maturity\"] == \"L\", \"maturity\"] = \"longterm\"\n",
    "df.loc[df[\"maturity\"] == \"S\", \"maturity\"] = \"shortterm\"\n",
    "df.loc[df[\"maturity\"] == \"T\", \"maturity\"] = \"allmaturities\"\n",
    "df.loc[df[\"maturity\"] == \"_Z\", \"maturity\"] = \"notapplicable\"\n",
    "\n",
    "# Recode currency\n",
    "df.loc[df[\"currency\"] == \"_T\", \"currency\"] = \"all\"\n",
    "df.loc[df[\"currency\"] == \"EUR\", \"currency\"] = \"euro\"\n",
    "df.loc[df[\"currency\"] == \"X3\", \"currency\"] = \"noneuro\""
   ]
  },
  {
   "cell_type": "code",
   "execution_count": 6,
   "id": "685f00ee",
   "metadata": {},
   "outputs": [
    {
     "name": "stderr",
     "output_type": "stream",
     "text": [
      "/var/folders/c9/w3sw7cm14hd5wwxw2cbxdzpc0000gn/T/ipykernel_48570/86032913.py:3: FutureWarning: Dropping of nuisance columns in DataFrame reductions (with 'numeric_only=None') is deprecated; in a future version this will raise TypeError.  Select only valid columns before calling the reduction.\n",
      "  df['total_90s'] = df.iloc[:, 0:16].sum(axis=1)\n"
     ]
    }
   ],
   "source": [
    "#Summing the data by decades \n",
    "\n",
    "df['total_90s'] = df.iloc[:, 0:16].sum(axis=1)\n",
    "df['total_00s'] = df.iloc[:, 16:48].sum(axis=1)\n",
    "df['total_10s'] = df.iloc[:, 48:80].sum(axis=1)\n",
    "df['total_20s'] = df.iloc[:, 80:].sum(axis=1)"
   ]
  },
  {
   "cell_type": "code",
   "execution_count": 7,
   "id": "7357fd42",
   "metadata": {},
   "outputs": [],
   "source": [
    "# create new columns and assign values based on the 'geographicorigin' column\n",
    "df['domwealth'] = df['total_10s'][df['geographicorigin'] == 'domesticeconomy'].sum()\n"
   ]
  },
  {
   "cell_type": "code",
   "execution_count": 8,
   "id": "50f42712",
   "metadata": {},
   "outputs": [],
   "source": [
    "# Goal 5: Domestic Wealth --> Assets or Liabilities --> Maturity \n",
    "\n",
    "    # 'domwealth' 'accountparity' 'maturity'\n",
    "    \n",
    "    # #rename zonedecontrepartiecounterpartare geographicorigin\n",
    "    #label variable geographicorigin \"geographicorigin\"\n",
    "    #replace geographicorigin = \"foreigneconomy\" if geographicorigin == \"W1\"\n",
    "    #replace geographicorigin = \"totaleconomies\" if geographicorigin == \"W0\"\n",
    "    #replace geographicorigin = \"domesticeconomy\" if geographicorigin == \"W2\"\n",
    "    #gen domwealth=sum(total_10s) if geographicorigin == \"W2\" \n",
    "    #gen forerignwealth=sum(total_10s) if geographicorigin == \"W2\" \n",
    "    \n",
    "     # rename paritéaccountentry accountparity\n",
    "    #label variable accountparity \"accountparity\"\n",
    "    #replace accountparity = \"assets\" if accountparity == \"A\"\n",
    "    #replace accountparity = \"liabiliies\" if accountparity == \"L\"\n",
    "    #replace accountparity = \"net\" if accountparity == \"N\"\n",
    "    \n",
    "    #rename maturitématurity maturity\n",
    "    #label variable maturity \"maturity\"\n",
    "    #replace maturity = \"longterm\" if maturity == \"L\"\n",
    "    #replace maturity = \"shortterm\" if maturity == \"S\"\n",
    "    #replace maturity = \"allmaturities\" if maturity == \"T\"\n",
    "    #replace maturity = \"notapplicable\" if maturity == \"_Z\""
   ]
  },
  {
   "cell_type": "code",
   "execution_count": 9,
   "id": "3c03079c",
   "metadata": {},
   "outputs": [
    {
     "name": "stdout",
     "output_type": "stream",
     "text": [
      "Unique domestic wealth: 1\n",
      "Unique account parity: 3\n",
      "Unique maturity: 4\n",
      "\n",
      "Total 10s by domestic wealth:\n",
      " domwealth\n",
      "2.780752e+10    5.109709e+10\n",
      "Name: total_10s, dtype: float64\n",
      "\n",
      "Total 10s by account parity:\n",
      " accountparity\n",
      "assets         2.644881e+10\n",
      "liabilities    2.453696e+10\n",
      "net            1.113110e+08\n",
      "Name: total_10s, dtype: float64\n",
      "\n",
      "Total 10s by maturity:\n",
      " maturity\n",
      "allmaturities    1.911317e+10\n",
      "longterm         4.591284e+09\n",
      "notapplicable    2.587208e+10\n",
      "shortterm        1.520556e+09\n",
      "Name: total_10s, dtype: float64\n"
     ]
    }
   ],
   "source": [
    "# Prep for Sankey 5\n",
    "# Count the number of unique values in each string variable\n",
    "num_domwealth = df['domwealth'].nunique()\n",
    "num_accountparity = df['accountparity'].nunique()\n",
    "num_maturity = df['maturity'].nunique()\n",
    "\n",
    "# Sum the numeric variable by each unique value in the string variable\n",
    "sum_domwealth = df.groupby('domwealth')['total_10s'].sum()\n",
    "sum_accountparity = df.groupby('accountparity')['total_10s'].sum()\n",
    "sum_maturity = df.groupby('maturity')['total_10s'].sum()\n",
    "\n",
    "print('Unique domestic wealth:', num_domwealth)\n",
    "print('Unique account parity:', num_accountparity)\n",
    "print('Unique maturity:', num_maturity)\n",
    "\n",
    "print('\\nTotal 10s by domestic wealth:\\n', sum_domwealth.head())\n",
    "print('\\nTotal 10s by account parity:\\n', sum_accountparity.head())\n",
    "print('\\nTotal 10s by maturity:\\n', sum_maturity.head())\n"
   ]
  },
  {
   "cell_type": "code",
   "execution_count": 10,
   "id": "d4d8678e",
   "metadata": {
    "scrolled": false
   },
   "outputs": [
    {
     "name": "stdout",
     "output_type": "stream",
     "text": [
      "   index                                        code_sdmx     domwealth  \\\n",
      "0      0    Q.N.FR.W0.S1.S1.N.A.F.F._Z._Z.XDC._T.S.V.N._T  2.780752e+10   \n",
      "1      1   Q.N.FR.W0.S1.S1.N.A.F.F1._Z._Z.XDC._T.S.V.N._T  2.780752e+10   \n",
      "2      2  Q.N.FR.W0.S1.S1.N.A.F.F11._Z._Z.XDC._T.S.V.N._T  2.780752e+10   \n",
      "3      3  Q.N.FR.W0.S1.S1.N.A.F.F12._Z._Z.XDC._T.S.V.N._T  2.780752e+10   \n",
      "4      4    Q.N.FR.W0.S1.S1.N.A.F.F2.T._Z.XDC._T.S.V.N._T  2.780752e+10   \n",
      "\n",
      "  accountparity       maturity     total_10s  \n",
      "0        assets  notapplicable  1.327427e+07  \n",
      "1        assets  notapplicable -8.003000e+03  \n",
      "2        assets  notapplicable -8.765000e+03  \n",
      "3        assets  notapplicable  7.620000e+02  \n",
      "4        assets  allmaturities  1.832597e+06  \n"
     ]
    }
   ],
   "source": [
    "# Create a new dataframe with selected columns\n",
    "S5 = df[['code_sdmx', 'domwealth', 'accountparity', 'maturity', 'total_10s']]\n",
    "\n",
    "# Reset the index of the dataframe\n",
    "S5 = S5.reset_index()\n",
    "print(S5.head())"
   ]
  },
  {
   "cell_type": "code",
   "execution_count": 11,
   "id": "73fc9514",
   "metadata": {
    "scrolled": true
   },
   "outputs": [
    {
     "name": "stdout",
     "output_type": "stream",
     "text": [
      "Index(['index', 'code_sdmx', 'domwealth', 'accountparity', 'maturity',\n",
      "       'total_10s'],\n",
      "      dtype='object')\n"
     ]
    }
   ],
   "source": [
    "print(S5.columns)"
   ]
  },
  {
   "cell_type": "code",
   "execution_count": 12,
   "id": "06b3829b",
   "metadata": {
    "scrolled": true
   },
   "outputs": [
    {
     "name": "stdout",
     "output_type": "stream",
     "text": [
      "Unique domestic wealth: 1\n",
      "Unique account parity: 3\n",
      "Unique maturity: 4\n",
      "\n",
      "Total 10s by domestic wealth:\n",
      " domwealth\n",
      "2.780752e+10    5.109709e+10\n",
      "Name: total_10s, dtype: float64\n",
      "\n",
      "Total 10s by account parity:\n",
      " accountparity\n",
      "assets         2.644881e+10\n",
      "liabilities    2.453696e+10\n",
      "net            1.113110e+08\n",
      "Name: total_10s, dtype: float64\n",
      "\n",
      "Total 10s by maturity:\n",
      " maturity\n",
      "allmaturities    1.911317e+10\n",
      "longterm         4.591284e+09\n",
      "notapplicable    2.587208e+10\n",
      "shortterm        1.520556e+09\n",
      "Name: total_10s, dtype: float64\n"
     ]
    }
   ],
   "source": [
    "num_domwealth = S5['domwealth'].nunique()\n",
    "num_accountparity = S5['accountparity'].nunique()\n",
    "num_maturity = S5['maturity'].nunique()\n",
    "\n",
    "# Sum the numeric variable by each unique value in the string variable\n",
    "sum_domwealth = S5.groupby('domwealth')['total_10s'].sum()\n",
    "sum_accountparity = S5.groupby('accountparity')['total_10s'].sum()\n",
    "sum_maturity = S5.groupby('maturity')['total_10s'].sum()\n",
    "\n",
    "\n",
    "print('Unique domestic wealth:', num_domwealth)\n",
    "print('Unique account parity:', num_accountparity)\n",
    "print('Unique maturity:', num_maturity)\n",
    "\n",
    "print('\\nTotal 10s by domestic wealth:\\n', sum_domwealth.head())\n",
    "print('\\nTotal 10s by account parity:\\n', sum_accountparity.head())\n",
    "print('\\nTotal 10s by maturity:\\n', sum_maturity.head())\n"
   ]
  },
  {
   "cell_type": "code",
   "execution_count": 13,
   "id": "81277e28",
   "metadata": {},
   "outputs": [
    {
     "name": "stdout",
     "output_type": "stream",
     "text": [
      "float64\n",
      "object\n",
      "object\n"
     ]
    }
   ],
   "source": [
    "print(S5['domwealth'].dtype)\n",
    "print(df['accountparity'].dtype)\n",
    "print(df['maturity'].dtype)\n"
   ]
  },
  {
   "cell_type": "code",
   "execution_count": 14,
   "id": "67d3b1a9",
   "metadata": {
    "scrolled": true
   },
   "outputs": [
    {
     "name": "stdout",
     "output_type": "stream",
     "text": [
      "   index                                        code_sdmx     domwealth  \\\n",
      "0      0    Q.N.FR.W0.S1.S1.N.A.F.F._Z._Z.XDC._T.S.V.N._T  2.780752e+10   \n",
      "1      1   Q.N.FR.W0.S1.S1.N.A.F.F1._Z._Z.XDC._T.S.V.N._T  2.780752e+10   \n",
      "2      2  Q.N.FR.W0.S1.S1.N.A.F.F11._Z._Z.XDC._T.S.V.N._T  2.780752e+10   \n",
      "3      3  Q.N.FR.W0.S1.S1.N.A.F.F12._Z._Z.XDC._T.S.V.N._T  2.780752e+10   \n",
      "4      4    Q.N.FR.W0.S1.S1.N.A.F.F2.T._Z.XDC._T.S.V.N._T  2.780752e+10   \n",
      "\n",
      "  accountparity       maturity     total_10s        assets  liabilities  net  \\\n",
      "0        assets  notapplicable  1.327427e+07  1.327427e+07          0.0  0.0   \n",
      "1        assets  notapplicable -8.003000e+03 -8.003000e+03          0.0  0.0   \n",
      "2        assets  notapplicable -8.765000e+03 -8.765000e+03          0.0  0.0   \n",
      "3        assets  notapplicable  7.620000e+02  7.620000e+02          0.0  0.0   \n",
      "4        assets  allmaturities  1.832597e+06  1.832597e+06          0.0  0.0   \n",
      "\n",
      "   notapplicable  allmaturities  longterm  shortterm  \n",
      "0   1.327427e+07          0.000       0.0        0.0  \n",
      "1  -8.003000e+03          0.000       0.0        0.0  \n",
      "2  -8.765000e+03          0.000       0.0        0.0  \n",
      "3   7.620000e+02          0.000       0.0        0.0  \n",
      "4   0.000000e+00    1832596.776       0.0        0.0  \n"
     ]
    }
   ],
   "source": [
    "# Pivot the dataframe to create columns for unique values in each string variable\n",
    "\n",
    "# create new columns for each unique value in 'flows'\n",
    "for sector in S5['accountparity'].unique():\n",
    "    S5[sector] = S5['total_10s'].where(S5['accountparity']==sector, 0)\n",
    "       \n",
    "# create new columns for each unique value in 'accountparity'\n",
    "for sector in S5['maturity'].unique():\n",
    "    S5[sector] = S5['total_10s'].where(S5['maturity']==sector, 0)\n",
    "\n",
    "print(S5.head())\n",
    "\n",
    "\n"
   ]
  },
  {
   "cell_type": "code",
   "execution_count": 21,
   "id": "8804d767",
   "metadata": {
    "scrolled": true
   },
   "outputs": [
    {
     "data": {
      "application/vnd.plotly.v1+json": {
       "config": {
        "plotlyServerURL": "https://plot.ly"
       },
       "data": [
        {
         "link": {
          "source": [
           0,
           0,
           0,
           1,
           1,
           1,
           1,
           2,
           2,
           2,
           2,
           3,
           3,
           3,
           3
          ],
          "target": [
           1,
           2,
           3,
           4,
           5,
           6,
           7,
           4,
           5,
           6,
           7,
           4,
           5,
           6,
           7
          ],
          "value": [
           779750699100857.8,
           26448813342.98,
           24536962806.703,
           111310977.66300002,
           25872075543.491997,
           19113171856.496998,
           4591283740.330999,
           1520555987.0259998
          ]
         },
         "node": {
          "label": [
           "domwealth",
           "assets",
           "liabilities",
           "net",
           "notapplicable",
           "allmaturities",
           "longterm",
           "shortterm"
          ],
          "pad": 20,
          "thickness": 20
         },
         "type": "sankey"
        }
       ],
       "layout": {
        "template": {
         "data": {
          "bar": [
           {
            "error_x": {
             "color": "#2a3f5f"
            },
            "error_y": {
             "color": "#2a3f5f"
            },
            "marker": {
             "line": {
              "color": "#E5ECF6",
              "width": 0.5
             },
             "pattern": {
              "fillmode": "overlay",
              "size": 10,
              "solidity": 0.2
             }
            },
            "type": "bar"
           }
          ],
          "barpolar": [
           {
            "marker": {
             "line": {
              "color": "#E5ECF6",
              "width": 0.5
             },
             "pattern": {
              "fillmode": "overlay",
              "size": 10,
              "solidity": 0.2
             }
            },
            "type": "barpolar"
           }
          ],
          "carpet": [
           {
            "aaxis": {
             "endlinecolor": "#2a3f5f",
             "gridcolor": "white",
             "linecolor": "white",
             "minorgridcolor": "white",
             "startlinecolor": "#2a3f5f"
            },
            "baxis": {
             "endlinecolor": "#2a3f5f",
             "gridcolor": "white",
             "linecolor": "white",
             "minorgridcolor": "white",
             "startlinecolor": "#2a3f5f"
            },
            "type": "carpet"
           }
          ],
          "choropleth": [
           {
            "colorbar": {
             "outlinewidth": 0,
             "ticks": ""
            },
            "type": "choropleth"
           }
          ],
          "contour": [
           {
            "colorbar": {
             "outlinewidth": 0,
             "ticks": ""
            },
            "colorscale": [
             [
              0,
              "#0d0887"
             ],
             [
              0.1111111111111111,
              "#46039f"
             ],
             [
              0.2222222222222222,
              "#7201a8"
             ],
             [
              0.3333333333333333,
              "#9c179e"
             ],
             [
              0.4444444444444444,
              "#bd3786"
             ],
             [
              0.5555555555555556,
              "#d8576b"
             ],
             [
              0.6666666666666666,
              "#ed7953"
             ],
             [
              0.7777777777777778,
              "#fb9f3a"
             ],
             [
              0.8888888888888888,
              "#fdca26"
             ],
             [
              1,
              "#f0f921"
             ]
            ],
            "type": "contour"
           }
          ],
          "contourcarpet": [
           {
            "colorbar": {
             "outlinewidth": 0,
             "ticks": ""
            },
            "type": "contourcarpet"
           }
          ],
          "heatmap": [
           {
            "colorbar": {
             "outlinewidth": 0,
             "ticks": ""
            },
            "colorscale": [
             [
              0,
              "#0d0887"
             ],
             [
              0.1111111111111111,
              "#46039f"
             ],
             [
              0.2222222222222222,
              "#7201a8"
             ],
             [
              0.3333333333333333,
              "#9c179e"
             ],
             [
              0.4444444444444444,
              "#bd3786"
             ],
             [
              0.5555555555555556,
              "#d8576b"
             ],
             [
              0.6666666666666666,
              "#ed7953"
             ],
             [
              0.7777777777777778,
              "#fb9f3a"
             ],
             [
              0.8888888888888888,
              "#fdca26"
             ],
             [
              1,
              "#f0f921"
             ]
            ],
            "type": "heatmap"
           }
          ],
          "heatmapgl": [
           {
            "colorbar": {
             "outlinewidth": 0,
             "ticks": ""
            },
            "colorscale": [
             [
              0,
              "#0d0887"
             ],
             [
              0.1111111111111111,
              "#46039f"
             ],
             [
              0.2222222222222222,
              "#7201a8"
             ],
             [
              0.3333333333333333,
              "#9c179e"
             ],
             [
              0.4444444444444444,
              "#bd3786"
             ],
             [
              0.5555555555555556,
              "#d8576b"
             ],
             [
              0.6666666666666666,
              "#ed7953"
             ],
             [
              0.7777777777777778,
              "#fb9f3a"
             ],
             [
              0.8888888888888888,
              "#fdca26"
             ],
             [
              1,
              "#f0f921"
             ]
            ],
            "type": "heatmapgl"
           }
          ],
          "histogram": [
           {
            "marker": {
             "pattern": {
              "fillmode": "overlay",
              "size": 10,
              "solidity": 0.2
             }
            },
            "type": "histogram"
           }
          ],
          "histogram2d": [
           {
            "colorbar": {
             "outlinewidth": 0,
             "ticks": ""
            },
            "colorscale": [
             [
              0,
              "#0d0887"
             ],
             [
              0.1111111111111111,
              "#46039f"
             ],
             [
              0.2222222222222222,
              "#7201a8"
             ],
             [
              0.3333333333333333,
              "#9c179e"
             ],
             [
              0.4444444444444444,
              "#bd3786"
             ],
             [
              0.5555555555555556,
              "#d8576b"
             ],
             [
              0.6666666666666666,
              "#ed7953"
             ],
             [
              0.7777777777777778,
              "#fb9f3a"
             ],
             [
              0.8888888888888888,
              "#fdca26"
             ],
             [
              1,
              "#f0f921"
             ]
            ],
            "type": "histogram2d"
           }
          ],
          "histogram2dcontour": [
           {
            "colorbar": {
             "outlinewidth": 0,
             "ticks": ""
            },
            "colorscale": [
             [
              0,
              "#0d0887"
             ],
             [
              0.1111111111111111,
              "#46039f"
             ],
             [
              0.2222222222222222,
              "#7201a8"
             ],
             [
              0.3333333333333333,
              "#9c179e"
             ],
             [
              0.4444444444444444,
              "#bd3786"
             ],
             [
              0.5555555555555556,
              "#d8576b"
             ],
             [
              0.6666666666666666,
              "#ed7953"
             ],
             [
              0.7777777777777778,
              "#fb9f3a"
             ],
             [
              0.8888888888888888,
              "#fdca26"
             ],
             [
              1,
              "#f0f921"
             ]
            ],
            "type": "histogram2dcontour"
           }
          ],
          "mesh3d": [
           {
            "colorbar": {
             "outlinewidth": 0,
             "ticks": ""
            },
            "type": "mesh3d"
           }
          ],
          "parcoords": [
           {
            "line": {
             "colorbar": {
              "outlinewidth": 0,
              "ticks": ""
             }
            },
            "type": "parcoords"
           }
          ],
          "pie": [
           {
            "automargin": true,
            "type": "pie"
           }
          ],
          "scatter": [
           {
            "fillpattern": {
             "fillmode": "overlay",
             "size": 10,
             "solidity": 0.2
            },
            "type": "scatter"
           }
          ],
          "scatter3d": [
           {
            "line": {
             "colorbar": {
              "outlinewidth": 0,
              "ticks": ""
             }
            },
            "marker": {
             "colorbar": {
              "outlinewidth": 0,
              "ticks": ""
             }
            },
            "type": "scatter3d"
           }
          ],
          "scattercarpet": [
           {
            "marker": {
             "colorbar": {
              "outlinewidth": 0,
              "ticks": ""
             }
            },
            "type": "scattercarpet"
           }
          ],
          "scattergeo": [
           {
            "marker": {
             "colorbar": {
              "outlinewidth": 0,
              "ticks": ""
             }
            },
            "type": "scattergeo"
           }
          ],
          "scattergl": [
           {
            "marker": {
             "colorbar": {
              "outlinewidth": 0,
              "ticks": ""
             }
            },
            "type": "scattergl"
           }
          ],
          "scattermapbox": [
           {
            "marker": {
             "colorbar": {
              "outlinewidth": 0,
              "ticks": ""
             }
            },
            "type": "scattermapbox"
           }
          ],
          "scatterpolar": [
           {
            "marker": {
             "colorbar": {
              "outlinewidth": 0,
              "ticks": ""
             }
            },
            "type": "scatterpolar"
           }
          ],
          "scatterpolargl": [
           {
            "marker": {
             "colorbar": {
              "outlinewidth": 0,
              "ticks": ""
             }
            },
            "type": "scatterpolargl"
           }
          ],
          "scatterternary": [
           {
            "marker": {
             "colorbar": {
              "outlinewidth": 0,
              "ticks": ""
             }
            },
            "type": "scatterternary"
           }
          ],
          "surface": [
           {
            "colorbar": {
             "outlinewidth": 0,
             "ticks": ""
            },
            "colorscale": [
             [
              0,
              "#0d0887"
             ],
             [
              0.1111111111111111,
              "#46039f"
             ],
             [
              0.2222222222222222,
              "#7201a8"
             ],
             [
              0.3333333333333333,
              "#9c179e"
             ],
             [
              0.4444444444444444,
              "#bd3786"
             ],
             [
              0.5555555555555556,
              "#d8576b"
             ],
             [
              0.6666666666666666,
              "#ed7953"
             ],
             [
              0.7777777777777778,
              "#fb9f3a"
             ],
             [
              0.8888888888888888,
              "#fdca26"
             ],
             [
              1,
              "#f0f921"
             ]
            ],
            "type": "surface"
           }
          ],
          "table": [
           {
            "cells": {
             "fill": {
              "color": "#EBF0F8"
             },
             "line": {
              "color": "white"
             }
            },
            "header": {
             "fill": {
              "color": "#C8D4E3"
             },
             "line": {
              "color": "white"
             }
            },
            "type": "table"
           }
          ]
         },
         "layout": {
          "annotationdefaults": {
           "arrowcolor": "#2a3f5f",
           "arrowhead": 0,
           "arrowwidth": 1
          },
          "autotypenumbers": "strict",
          "coloraxis": {
           "colorbar": {
            "outlinewidth": 0,
            "ticks": ""
           }
          },
          "colorscale": {
           "diverging": [
            [
             0,
             "#8e0152"
            ],
            [
             0.1,
             "#c51b7d"
            ],
            [
             0.2,
             "#de77ae"
            ],
            [
             0.3,
             "#f1b6da"
            ],
            [
             0.4,
             "#fde0ef"
            ],
            [
             0.5,
             "#f7f7f7"
            ],
            [
             0.6,
             "#e6f5d0"
            ],
            [
             0.7,
             "#b8e186"
            ],
            [
             0.8,
             "#7fbc41"
            ],
            [
             0.9,
             "#4d9221"
            ],
            [
             1,
             "#276419"
            ]
           ],
           "sequential": [
            [
             0,
             "#0d0887"
            ],
            [
             0.1111111111111111,
             "#46039f"
            ],
            [
             0.2222222222222222,
             "#7201a8"
            ],
            [
             0.3333333333333333,
             "#9c179e"
            ],
            [
             0.4444444444444444,
             "#bd3786"
            ],
            [
             0.5555555555555556,
             "#d8576b"
            ],
            [
             0.6666666666666666,
             "#ed7953"
            ],
            [
             0.7777777777777778,
             "#fb9f3a"
            ],
            [
             0.8888888888888888,
             "#fdca26"
            ],
            [
             1,
             "#f0f921"
            ]
           ],
           "sequentialminus": [
            [
             0,
             "#0d0887"
            ],
            [
             0.1111111111111111,
             "#46039f"
            ],
            [
             0.2222222222222222,
             "#7201a8"
            ],
            [
             0.3333333333333333,
             "#9c179e"
            ],
            [
             0.4444444444444444,
             "#bd3786"
            ],
            [
             0.5555555555555556,
             "#d8576b"
            ],
            [
             0.6666666666666666,
             "#ed7953"
            ],
            [
             0.7777777777777778,
             "#fb9f3a"
            ],
            [
             0.8888888888888888,
             "#fdca26"
            ],
            [
             1,
             "#f0f921"
            ]
           ]
          },
          "colorway": [
           "#636efa",
           "#EF553B",
           "#00cc96",
           "#ab63fa",
           "#FFA15A",
           "#19d3f3",
           "#FF6692",
           "#B6E880",
           "#FF97FF",
           "#FECB52"
          ],
          "font": {
           "color": "#2a3f5f"
          },
          "geo": {
           "bgcolor": "white",
           "lakecolor": "white",
           "landcolor": "#E5ECF6",
           "showlakes": true,
           "showland": true,
           "subunitcolor": "white"
          },
          "hoverlabel": {
           "align": "left"
          },
          "hovermode": "closest",
          "mapbox": {
           "style": "light"
          },
          "paper_bgcolor": "white",
          "plot_bgcolor": "#E5ECF6",
          "polar": {
           "angularaxis": {
            "gridcolor": "white",
            "linecolor": "white",
            "ticks": ""
           },
           "bgcolor": "#E5ECF6",
           "radialaxis": {
            "gridcolor": "white",
            "linecolor": "white",
            "ticks": ""
           }
          },
          "scene": {
           "xaxis": {
            "backgroundcolor": "#E5ECF6",
            "gridcolor": "white",
            "gridwidth": 2,
            "linecolor": "white",
            "showbackground": true,
            "ticks": "",
            "zerolinecolor": "white"
           },
           "yaxis": {
            "backgroundcolor": "#E5ECF6",
            "gridcolor": "white",
            "gridwidth": 2,
            "linecolor": "white",
            "showbackground": true,
            "ticks": "",
            "zerolinecolor": "white"
           },
           "zaxis": {
            "backgroundcolor": "#E5ECF6",
            "gridcolor": "white",
            "gridwidth": 2,
            "linecolor": "white",
            "showbackground": true,
            "ticks": "",
            "zerolinecolor": "white"
           }
          },
          "shapedefaults": {
           "line": {
            "color": "#2a3f5f"
           }
          },
          "ternary": {
           "aaxis": {
            "gridcolor": "white",
            "linecolor": "white",
            "ticks": ""
           },
           "baxis": {
            "gridcolor": "white",
            "linecolor": "white",
            "ticks": ""
           },
           "bgcolor": "#E5ECF6",
           "caxis": {
            "gridcolor": "white",
            "linecolor": "white",
            "ticks": ""
           }
          },
          "title": {
           "x": 0.05
          },
          "xaxis": {
           "automargin": true,
           "gridcolor": "white",
           "linecolor": "white",
           "ticks": "",
           "title": {
            "standoff": 15
           },
           "zerolinecolor": "white",
           "zerolinewidth": 2
          },
          "yaxis": {
           "automargin": true,
           "gridcolor": "white",
           "linecolor": "white",
           "ticks": "",
           "title": {
            "standoff": 15
           },
           "zerolinecolor": "white",
           "zerolinewidth": 2
          }
         }
        }
       }
      },
      "text/html": [
       "<div>                            <div id=\"cad00ec4-15ff-4e27-bcc6-f383c24d6d89\" class=\"plotly-graph-div\" style=\"height:525px; width:100%;\"></div>            <script type=\"text/javascript\">                require([\"plotly\"], function(Plotly) {                    window.PLOTLYENV=window.PLOTLYENV || {};                                    if (document.getElementById(\"cad00ec4-15ff-4e27-bcc6-f383c24d6d89\")) {                    Plotly.newPlot(                        \"cad00ec4-15ff-4e27-bcc6-f383c24d6d89\",                        [{\"link\":{\"source\":[0,0,0,1,1,1,1,2,2,2,2,3,3,3,3],\"target\":[1,2,3,4,5,6,7,4,5,6,7,4,5,6,7],\"value\":[779750699100857.8,26448813342.98,24536962806.703,111310977.66300002,25872075543.491997,19113171856.496998,4591283740.330999,1520555987.0259998]},\"node\":{\"label\":[\"domwealth\",\"assets\",\"liabilities\",\"net\",\"notapplicable\",\"allmaturities\",\"longterm\",\"shortterm\"],\"pad\":20,\"thickness\":20},\"type\":\"sankey\"}],                        {\"template\":{\"data\":{\"histogram2dcontour\":[{\"type\":\"histogram2dcontour\",\"colorbar\":{\"outlinewidth\":0,\"ticks\":\"\"},\"colorscale\":[[0.0,\"#0d0887\"],[0.1111111111111111,\"#46039f\"],[0.2222222222222222,\"#7201a8\"],[0.3333333333333333,\"#9c179e\"],[0.4444444444444444,\"#bd3786\"],[0.5555555555555556,\"#d8576b\"],[0.6666666666666666,\"#ed7953\"],[0.7777777777777778,\"#fb9f3a\"],[0.8888888888888888,\"#fdca26\"],[1.0,\"#f0f921\"]]}],\"choropleth\":[{\"type\":\"choropleth\",\"colorbar\":{\"outlinewidth\":0,\"ticks\":\"\"}}],\"histogram2d\":[{\"type\":\"histogram2d\",\"colorbar\":{\"outlinewidth\":0,\"ticks\":\"\"},\"colorscale\":[[0.0,\"#0d0887\"],[0.1111111111111111,\"#46039f\"],[0.2222222222222222,\"#7201a8\"],[0.3333333333333333,\"#9c179e\"],[0.4444444444444444,\"#bd3786\"],[0.5555555555555556,\"#d8576b\"],[0.6666666666666666,\"#ed7953\"],[0.7777777777777778,\"#fb9f3a\"],[0.8888888888888888,\"#fdca26\"],[1.0,\"#f0f921\"]]}],\"heatmap\":[{\"type\":\"heatmap\",\"colorbar\":{\"outlinewidth\":0,\"ticks\":\"\"},\"colorscale\":[[0.0,\"#0d0887\"],[0.1111111111111111,\"#46039f\"],[0.2222222222222222,\"#7201a8\"],[0.3333333333333333,\"#9c179e\"],[0.4444444444444444,\"#bd3786\"],[0.5555555555555556,\"#d8576b\"],[0.6666666666666666,\"#ed7953\"],[0.7777777777777778,\"#fb9f3a\"],[0.8888888888888888,\"#fdca26\"],[1.0,\"#f0f921\"]]}],\"heatmapgl\":[{\"type\":\"heatmapgl\",\"colorbar\":{\"outlinewidth\":0,\"ticks\":\"\"},\"colorscale\":[[0.0,\"#0d0887\"],[0.1111111111111111,\"#46039f\"],[0.2222222222222222,\"#7201a8\"],[0.3333333333333333,\"#9c179e\"],[0.4444444444444444,\"#bd3786\"],[0.5555555555555556,\"#d8576b\"],[0.6666666666666666,\"#ed7953\"],[0.7777777777777778,\"#fb9f3a\"],[0.8888888888888888,\"#fdca26\"],[1.0,\"#f0f921\"]]}],\"contourcarpet\":[{\"type\":\"contourcarpet\",\"colorbar\":{\"outlinewidth\":0,\"ticks\":\"\"}}],\"contour\":[{\"type\":\"contour\",\"colorbar\":{\"outlinewidth\":0,\"ticks\":\"\"},\"colorscale\":[[0.0,\"#0d0887\"],[0.1111111111111111,\"#46039f\"],[0.2222222222222222,\"#7201a8\"],[0.3333333333333333,\"#9c179e\"],[0.4444444444444444,\"#bd3786\"],[0.5555555555555556,\"#d8576b\"],[0.6666666666666666,\"#ed7953\"],[0.7777777777777778,\"#fb9f3a\"],[0.8888888888888888,\"#fdca26\"],[1.0,\"#f0f921\"]]}],\"surface\":[{\"type\":\"surface\",\"colorbar\":{\"outlinewidth\":0,\"ticks\":\"\"},\"colorscale\":[[0.0,\"#0d0887\"],[0.1111111111111111,\"#46039f\"],[0.2222222222222222,\"#7201a8\"],[0.3333333333333333,\"#9c179e\"],[0.4444444444444444,\"#bd3786\"],[0.5555555555555556,\"#d8576b\"],[0.6666666666666666,\"#ed7953\"],[0.7777777777777778,\"#fb9f3a\"],[0.8888888888888888,\"#fdca26\"],[1.0,\"#f0f921\"]]}],\"mesh3d\":[{\"type\":\"mesh3d\",\"colorbar\":{\"outlinewidth\":0,\"ticks\":\"\"}}],\"scatter\":[{\"fillpattern\":{\"fillmode\":\"overlay\",\"size\":10,\"solidity\":0.2},\"type\":\"scatter\"}],\"parcoords\":[{\"type\":\"parcoords\",\"line\":{\"colorbar\":{\"outlinewidth\":0,\"ticks\":\"\"}}}],\"scatterpolargl\":[{\"type\":\"scatterpolargl\",\"marker\":{\"colorbar\":{\"outlinewidth\":0,\"ticks\":\"\"}}}],\"bar\":[{\"error_x\":{\"color\":\"#2a3f5f\"},\"error_y\":{\"color\":\"#2a3f5f\"},\"marker\":{\"line\":{\"color\":\"#E5ECF6\",\"width\":0.5},\"pattern\":{\"fillmode\":\"overlay\",\"size\":10,\"solidity\":0.2}},\"type\":\"bar\"}],\"scattergeo\":[{\"type\":\"scattergeo\",\"marker\":{\"colorbar\":{\"outlinewidth\":0,\"ticks\":\"\"}}}],\"scatterpolar\":[{\"type\":\"scatterpolar\",\"marker\":{\"colorbar\":{\"outlinewidth\":0,\"ticks\":\"\"}}}],\"histogram\":[{\"marker\":{\"pattern\":{\"fillmode\":\"overlay\",\"size\":10,\"solidity\":0.2}},\"type\":\"histogram\"}],\"scattergl\":[{\"type\":\"scattergl\",\"marker\":{\"colorbar\":{\"outlinewidth\":0,\"ticks\":\"\"}}}],\"scatter3d\":[{\"type\":\"scatter3d\",\"line\":{\"colorbar\":{\"outlinewidth\":0,\"ticks\":\"\"}},\"marker\":{\"colorbar\":{\"outlinewidth\":0,\"ticks\":\"\"}}}],\"scattermapbox\":[{\"type\":\"scattermapbox\",\"marker\":{\"colorbar\":{\"outlinewidth\":0,\"ticks\":\"\"}}}],\"scatterternary\":[{\"type\":\"scatterternary\",\"marker\":{\"colorbar\":{\"outlinewidth\":0,\"ticks\":\"\"}}}],\"scattercarpet\":[{\"type\":\"scattercarpet\",\"marker\":{\"colorbar\":{\"outlinewidth\":0,\"ticks\":\"\"}}}],\"carpet\":[{\"aaxis\":{\"endlinecolor\":\"#2a3f5f\",\"gridcolor\":\"white\",\"linecolor\":\"white\",\"minorgridcolor\":\"white\",\"startlinecolor\":\"#2a3f5f\"},\"baxis\":{\"endlinecolor\":\"#2a3f5f\",\"gridcolor\":\"white\",\"linecolor\":\"white\",\"minorgridcolor\":\"white\",\"startlinecolor\":\"#2a3f5f\"},\"type\":\"carpet\"}],\"table\":[{\"cells\":{\"fill\":{\"color\":\"#EBF0F8\"},\"line\":{\"color\":\"white\"}},\"header\":{\"fill\":{\"color\":\"#C8D4E3\"},\"line\":{\"color\":\"white\"}},\"type\":\"table\"}],\"barpolar\":[{\"marker\":{\"line\":{\"color\":\"#E5ECF6\",\"width\":0.5},\"pattern\":{\"fillmode\":\"overlay\",\"size\":10,\"solidity\":0.2}},\"type\":\"barpolar\"}],\"pie\":[{\"automargin\":true,\"type\":\"pie\"}]},\"layout\":{\"autotypenumbers\":\"strict\",\"colorway\":[\"#636efa\",\"#EF553B\",\"#00cc96\",\"#ab63fa\",\"#FFA15A\",\"#19d3f3\",\"#FF6692\",\"#B6E880\",\"#FF97FF\",\"#FECB52\"],\"font\":{\"color\":\"#2a3f5f\"},\"hovermode\":\"closest\",\"hoverlabel\":{\"align\":\"left\"},\"paper_bgcolor\":\"white\",\"plot_bgcolor\":\"#E5ECF6\",\"polar\":{\"bgcolor\":\"#E5ECF6\",\"angularaxis\":{\"gridcolor\":\"white\",\"linecolor\":\"white\",\"ticks\":\"\"},\"radialaxis\":{\"gridcolor\":\"white\",\"linecolor\":\"white\",\"ticks\":\"\"}},\"ternary\":{\"bgcolor\":\"#E5ECF6\",\"aaxis\":{\"gridcolor\":\"white\",\"linecolor\":\"white\",\"ticks\":\"\"},\"baxis\":{\"gridcolor\":\"white\",\"linecolor\":\"white\",\"ticks\":\"\"},\"caxis\":{\"gridcolor\":\"white\",\"linecolor\":\"white\",\"ticks\":\"\"}},\"coloraxis\":{\"colorbar\":{\"outlinewidth\":0,\"ticks\":\"\"}},\"colorscale\":{\"sequential\":[[0.0,\"#0d0887\"],[0.1111111111111111,\"#46039f\"],[0.2222222222222222,\"#7201a8\"],[0.3333333333333333,\"#9c179e\"],[0.4444444444444444,\"#bd3786\"],[0.5555555555555556,\"#d8576b\"],[0.6666666666666666,\"#ed7953\"],[0.7777777777777778,\"#fb9f3a\"],[0.8888888888888888,\"#fdca26\"],[1.0,\"#f0f921\"]],\"sequentialminus\":[[0.0,\"#0d0887\"],[0.1111111111111111,\"#46039f\"],[0.2222222222222222,\"#7201a8\"],[0.3333333333333333,\"#9c179e\"],[0.4444444444444444,\"#bd3786\"],[0.5555555555555556,\"#d8576b\"],[0.6666666666666666,\"#ed7953\"],[0.7777777777777778,\"#fb9f3a\"],[0.8888888888888888,\"#fdca26\"],[1.0,\"#f0f921\"]],\"diverging\":[[0,\"#8e0152\"],[0.1,\"#c51b7d\"],[0.2,\"#de77ae\"],[0.3,\"#f1b6da\"],[0.4,\"#fde0ef\"],[0.5,\"#f7f7f7\"],[0.6,\"#e6f5d0\"],[0.7,\"#b8e186\"],[0.8,\"#7fbc41\"],[0.9,\"#4d9221\"],[1,\"#276419\"]]},\"xaxis\":{\"gridcolor\":\"white\",\"linecolor\":\"white\",\"ticks\":\"\",\"title\":{\"standoff\":15},\"zerolinecolor\":\"white\",\"automargin\":true,\"zerolinewidth\":2},\"yaxis\":{\"gridcolor\":\"white\",\"linecolor\":\"white\",\"ticks\":\"\",\"title\":{\"standoff\":15},\"zerolinecolor\":\"white\",\"automargin\":true,\"zerolinewidth\":2},\"scene\":{\"xaxis\":{\"backgroundcolor\":\"#E5ECF6\",\"gridcolor\":\"white\",\"linecolor\":\"white\",\"showbackground\":true,\"ticks\":\"\",\"zerolinecolor\":\"white\",\"gridwidth\":2},\"yaxis\":{\"backgroundcolor\":\"#E5ECF6\",\"gridcolor\":\"white\",\"linecolor\":\"white\",\"showbackground\":true,\"ticks\":\"\",\"zerolinecolor\":\"white\",\"gridwidth\":2},\"zaxis\":{\"backgroundcolor\":\"#E5ECF6\",\"gridcolor\":\"white\",\"linecolor\":\"white\",\"showbackground\":true,\"ticks\":\"\",\"zerolinecolor\":\"white\",\"gridwidth\":2}},\"shapedefaults\":{\"line\":{\"color\":\"#2a3f5f\"}},\"annotationdefaults\":{\"arrowcolor\":\"#2a3f5f\",\"arrowhead\":0,\"arrowwidth\":1},\"geo\":{\"bgcolor\":\"white\",\"landcolor\":\"#E5ECF6\",\"subunitcolor\":\"white\",\"showland\":true,\"showlakes\":true,\"lakecolor\":\"white\"},\"title\":{\"x\":0.05},\"mapbox\":{\"style\":\"light\"}}}},                        {\"responsive\": true}                    ).then(function(){\n",
       "                            \n",
       "var gd = document.getElementById('cad00ec4-15ff-4e27-bcc6-f383c24d6d89');\n",
       "var x = new MutationObserver(function (mutations, observer) {{\n",
       "        var display = window.getComputedStyle(gd).display;\n",
       "        if (!display || display === 'none') {{\n",
       "            console.log([gd, 'removed!']);\n",
       "            Plotly.purge(gd);\n",
       "            observer.disconnect();\n",
       "        }}\n",
       "}});\n",
       "\n",
       "// Listen for the removal of the full notebook cells\n",
       "var notebookContainer = gd.closest('#notebook-container');\n",
       "if (notebookContainer) {{\n",
       "    x.observe(notebookContainer, {childList: true});\n",
       "}}\n",
       "\n",
       "// Listen for the clearing of the current output cell\n",
       "var outputEl = gd.closest('.output');\n",
       "if (outputEl) {{\n",
       "    x.observe(outputEl, {childList: true});\n",
       "}}\n",
       "\n",
       "                        })                };                });            </script>        </div>"
      ]
     },
     "metadata": {},
     "output_type": "display_data"
    }
   ],
   "source": [
    "import plotly.graph_objects as go\n",
    "import pandas as pd\n",
    "\n",
    "# Define the labels for each node\n",
    "labels = ['domwealth', 'assets', 'liabilities', 'net', 'notapplicable', 'allmaturities', 'longterm', 'shortterm']\n",
    "\n",
    "# Define the nodes\n",
    "nodes = []\n",
    "for label in labels:\n",
    "    nodes.append(dict(label=label, pad=20))\n",
    "\n",
    "# Define the source, target, and value for each link between nodes\n",
    "source = [0, 0, 0, 1, 1, 1, 1, 2, 2, 2, 2, 3, 3, 3, 3]\n",
    "target = [1, 2, 3, 4, 5, 6, 7, 4, 5, 6, 7, 4, 5, 6, 7]\n",
    "values = [S5['domwealth'].sum(), S5['assets'].sum(), S5['liabilities'].sum(), S5['net'].sum(), S5['notapplicable'].sum(), S5['allmaturities'].sum(), S5['longterm'].sum(), S5['shortterm'].sum()] \n",
    "\n",
    "# Create Sankey diagram \n",
    "fig = go.Figure(data=[go.Sankey(\n",
    "    node=dict(\n",
    "        pad=20,\n",
    "        thickness=20,\n",
    "        label=labels\n",
    "    ),\n",
    "    link=dict(\n",
    "        source=source,\n",
    "        target=target,\n",
    "        value=values\n",
    "    )\n",
    ")])\n",
    "\n",
    "fig.show()\n"
   ]
  },
  {
   "cell_type": "code",
   "execution_count": null,
   "id": "ffb9d2a5",
   "metadata": {},
   "outputs": [],
   "source": []
  }
 ],
 "metadata": {
  "kernelspec": {
   "display_name": "Python 3 (ipykernel)",
   "language": "python",
   "name": "python3"
  },
  "language_info": {
   "codemirror_mode": {
    "name": "ipython",
    "version": 3
   },
   "file_extension": ".py",
   "mimetype": "text/x-python",
   "name": "python",
   "nbconvert_exporter": "python",
   "pygments_lexer": "ipython3",
   "version": "3.9.15"
  }
 },
 "nbformat": 4,
 "nbformat_minor": 5
}
